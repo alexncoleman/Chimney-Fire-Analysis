{
 "cells": [
  {
   "cell_type": "markdown",
   "id": "03fdedff",
   "metadata": {},
   "source": [
    "This notebook is used to preform PCA analysis on the images of the chimney fire"
   ]
  },
  {
   "cell_type": "code",
   "execution_count": 18,
   "id": "19ab855d",
   "metadata": {},
   "outputs": [
    {
     "name": "stdout",
     "output_type": "stream",
     "text": [
      "22848.928\n"
     ]
    }
   ],
   "source": [
    "import cv2\n",
    "import numpy as np\n",
    "\n",
    "#%%%%% Turn all the images into data RUN THIS CELL for data\n",
    "import matplotlib.pyplot as plt\n",
    "import matplotlib.image as mpimg\n",
    "data = [] \n",
    "\n",
    "for i in range(41):\n",
    "    for j in range(16):\n",
    "        image_name = 'video%s_frame_%s.jpg' % (i,j)\n",
    "        im = mpimg.imread('%s' % (image_name))\n",
    "        #plt.imshow(im)\n",
    "        #plt.show()   #these commented out lines of code will print out all the images\n",
    "        im = cv2.imread(image_name, 0).flatten()  #read image as grayscale. Set second parameter to 1 if rgb is required \n",
    "        data.append(im)#value of 0 = black, 255 = white\n",
    "data = np.asarray(data)\n",
    "        \n",
    "        \n",
    "test_data = []\n",
    "for i in range(8):\n",
    "    for j in range(16):\n",
    "        image_name = 'video%s_frame_%s.jpg' % (i+41,j)\n",
    "        im = mpimg.imread('%s' % (image_name))\n",
    "        #plt.imshow(im)\n",
    "        #plt.show()   \n",
    "        im = cv2.imread(image_name, 0).flatten()\n",
    "        test_data.append(im)\n",
    "test_data = np.asarray(test_data)\n",
    "\n",
    "#process the data so that the the pixel values are between 0 and 1 \n",
    "def preprocess(array): #this function is from https://keras.io/examples/vision/autoencoder/\n",
    "    \"\"\"\n",
    "    Normalizes the supplied array and reshapes it into the appropriate format.\n",
    "    \"\"\"\n",
    "\n",
    "    array = array.astype(\"float32\") / 255.0\n",
    "    return array\n",
    "data = preprocess(data)\n",
    "test_data = preprocess(test_data)\n",
    "\n",
    "#%%% Using the images to preform a PCA then use the principle component for data compressing and decompressing\n",
    "from sklearn.decomposition import PCA\n",
    "pca = PCA(0.8) #want to compress images to reduce unncecssary data but still keep shape\n",
    "#^^choosing amount of total variability we want to be 80% as this keeps shapes but still compresses the data\n",
    "\n",
    "\n",
    "\n",
    "\n",
    "compress_data = pca.fit_transform(data)  \n",
    "inverse_data = pca.inverse_transform(compress_data) #decompressed images\n",
    "\n",
    "#plots decompressed images\n",
    "#for i in range(len(inverse_data)):\n",
    "    #plt.imshow(np.reshape(inverse_data[i], (128,128)))\n",
    "    #plt.show()\n",
    "    \n",
    "score_value = pca.score(test_data)\n",
    "print(score_value)\n"
   ]
  },
  {
   "cell_type": "markdown",
   "id": "7a89f327",
   "metadata": {},
   "source": [
    "The number output by the code above is the log-likelihood. Log-likelihood of 5568  at 80% total variability. Log-likelihood of 2376 at 70% of total variability therefore worse than 80%. 85% total variability = 7666.  90% total variability = 10439. "
   ]
  }
 ],
 "metadata": {
  "kernelspec": {
   "display_name": "Python 3 (ipykernel)",
   "language": "python",
   "name": "python3"
  },
  "language_info": {
   "codemirror_mode": {
    "name": "ipython",
    "version": 3
   },
   "file_extension": ".py",
   "mimetype": "text/x-python",
   "name": "python",
   "nbconvert_exporter": "python",
   "pygments_lexer": "ipython3",
   "version": "3.9.13"
  }
 },
 "nbformat": 4,
 "nbformat_minor": 5
}
